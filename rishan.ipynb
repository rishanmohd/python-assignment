{
  "nbformat": 4,
  "nbformat_minor": 0,
  "metadata": {
    "colab": {
      "provenance": []
    },
    "kernelspec": {
      "name": "python3",
      "display_name": "Python 3"
    },
    "language_info": {
      "name": "python"
    }
  },
  "cells": [
    {
      "cell_type": "code",
      "source": [
        " #7. Write a Python function to find the sum of squares of the numbers in a list.\n",
        "\n",
        "\n",
        "def sum_squares(nums):\n",
        "  sum_of_squares = 0\n",
        "  for number in nums:\n",
        "    sum_of_squares += number ** 2\n",
        "  return sum_of_squares\n",
        "\n",
        "\n",
        "nums=[2,4,5,6,7]\n",
        "sum_squares(nums)"
      ],
      "metadata": {
        "colab": {
          "base_uri": "https://localhost:8080/"
        },
        "id": "5cUTdvcBBs-w",
        "outputId": "c9bd94fa-3e22-4a35-acd7-a02919294968"
      },
      "execution_count": null,
      "outputs": [
        {
          "output_type": "execute_result",
          "data": {
            "text/plain": [
              "130"
            ]
          },
          "metadata": {},
          "execution_count": 25
        }
      ]
    },
    {
      "cell_type": "code",
      "source": [
        "'''9. Write a Python function to convert temperatures to and from Celsius\n",
        "Fahrenheit. [Formula: c/5=f-32/9 where c=temperature in Celsius and f=\n",
        "temperature in Fahrenheit.] Sample input: Temperature in Fahrenheit =41\n",
        "Sample output: Temperature in Celsius =5 '''\n",
        "\n",
        "\n",
        "\n",
        "def convert_temperature(fahrenheit):\n",
        "  celsius = (fahrenheit - 32) * 5 / 9\n",
        "  return celsius\n",
        "\n",
        "fahrenheit = 41\n",
        "celsius = convert_temperature(fahrenheit)\n",
        "print(\"Temperature in Celsius:\", celsius)\n",
        "\n",
        "\n",
        "\n"
      ],
      "metadata": {
        "colab": {
          "base_uri": "https://localhost:8080/"
        },
        "id": "N0fXf-MgDAoR",
        "outputId": "e8e5a0ef-b050-4ef7-fb71-1c9c3aefbfa9"
      },
      "execution_count": null,
      "outputs": [
        {
          "output_type": "stream",
          "name": "stdout",
          "text": [
            "Temperature in Celsius: 5.0\n"
          ]
        }
      ]
    },
    {
      "cell_type": "code",
      "source": [
        "'''2. Write a Python function to find the maximum of three numbers Sample input:\n",
        "34,12,7 Sample output: 34 '''\n",
        "\n",
        "\n",
        "def fmax(x,y,z):\n",
        "  return max(x,y,z)\n",
        "x = float(input(\"Enter  first number: \"))\n",
        "y = float(input(\"Enter  second number: \"))\n",
        "z = float(input(\"Enter  third number: \"))\n",
        "\n",
        "if x>y and x>z:\n",
        "  print(x,'is  maximum')\n",
        "elif b>a and b>c:\n",
        "  print(y,'is  maximum')\n",
        "else:\n",
        "  print(z,'is  maximum')"
      ],
      "metadata": {
        "colab": {
          "base_uri": "https://localhost:8080/"
        },
        "id": "e9CwcI1BQVgm",
        "outputId": "78fa732d-1e53-41da-837b-f20a3345fdb1"
      },
      "execution_count": null,
      "outputs": [
        {
          "output_type": "stream",
          "name": "stdout",
          "text": [
            "Enter  first number: 8\n",
            "Enter  second number: 8\n",
            "Enter  third number: 5\n",
            "8.0 is the maximum\n"
          ]
        }
      ]
    },
    {
      "cell_type": "code",
      "source": [
        "'''3. Write a Python function called exponent(base,exp) that returns an integer\n",
        "value of base raises to the power of exp. Sample input: Enter the base: 2\n",
        "Enter the exponent: 3 Sample output: 8'''\n",
        "\n",
        "\n",
        "def exponent(base,exponent):\n",
        "  print(base**exponent)\n",
        "base = int(input(\"enter base:\"))\n",
        "exp=int(input(\"enter exponent:\"))\n",
        "exponent(base,exp)\n",
        "#print(\"the output is:\",result)\n"
      ],
      "metadata": {
        "colab": {
          "base_uri": "https://localhost:8080/"
        },
        "id": "ET2Nfz7de8wq",
        "outputId": "9ed5231e-7da1-451b-d174-3e4ed35cce91"
      },
      "execution_count": null,
      "outputs": [
        {
          "output_type": "stream",
          "name": "stdout",
          "text": [
            "enter base:6\n",
            "enter exponent:2\n",
            "36\n"
          ]
        }
      ]
    },
    {
      "cell_type": "code",
      "source": [
        "'''5. Write a Python program which iterates from 1 to 10. For multiples of 2, print\n",
        "“Fizz” instead of the number and for the multiples of 5, print “Buzz”. For\n",
        "numbers which are multiples of both 2 and 5, print “FizzBuzz”. Sample input:\n",
        "numbers from 1 to 10 Sample output: 1 Fizz 3 Fizz Buzz Fizz 7 Fizz 9\n",
        "FizzBuzz'''\n",
        "\n",
        "for num in range(1,11):\n",
        "  print(num)\n",
        "  if num%2==0 and num%5==0:\n",
        "    print(\"fizzbuzz\")\n",
        "  elif num%2==0:\n",
        "    print(\"fizz\")\n",
        "  elif num%5==0:\n",
        "    print(\"buzz\")\n"
      ],
      "metadata": {
        "colab": {
          "base_uri": "https://localhost:8080/"
        },
        "id": "uxeniNpiiPuH",
        "outputId": "b0ef205f-09fd-42e4-b9d2-b1ce1fc882c6"
      },
      "execution_count": null,
      "outputs": [
        {
          "output_type": "stream",
          "name": "stdout",
          "text": [
            "1\n",
            "2\n",
            "fizz\n",
            "3\n",
            "4\n",
            "fizz\n",
            "5\n",
            "buzz\n",
            "6\n",
            "fizz\n",
            "7\n",
            "8\n",
            "fizz\n",
            "9\n",
            "10\n",
            "fizzbuzz\n"
          ]
        }
      ]
    },
    {
      "cell_type": "code",
      "source": [
        "'''6. Write a Python function to find the most frequent item in a list of numbers.\n",
        "Sample input: 2, 3, 4, 2, 5, 2 Sample output: 2'''\n",
        "\n",
        "s = 0\n",
        "l1 = [2,3,4,2,5,2]\n",
        "for n in l1:\n",
        "\n",
        "  print(s)"
      ],
      "metadata": {
        "id": "ylNoLql2mcxF"
      },
      "execution_count": null,
      "outputs": []
    },
    {
      "cell_type": "code",
      "source": [
        "'''10.Write a Python function to calculate the factorial of a number (a nonnegative\n",
        "integer). The function accepts the number as an argument. Sample input: 3\n",
        "Sample output: 6'''\n",
        "if n < 0:\n",
        "    raise ValueError(\"n must be a non-negative integer.\")\n",
        "elif n == 0:\n",
        "    return 1\n",
        "else:\n",
        "    return n * factorial(n - 1)\n",
        "\n",
        "\n",
        "n = 3\n",
        "print(factorial(n))"
      ],
      "metadata": {
        "id": "7m9rnnNnqNeF"
      },
      "execution_count": null,
      "outputs": []
    },
    {
      "cell_type": "code",
      "source": [
        "'''8.Write a Python program using for loop that will iterate from 1 to 15. For each\n",
        "iteration, check if the current number is odd or even, and display the message\n",
        "to the screen as odd or even. Sample input: 1….15 Sample output: 1-odd 2-\n",
        "even …. 15-odd '''\n",
        "\n",
        "for i in range(1,16):\n",
        "  if i%2==0:\n",
        "    print(f\"{i} - even\")\n",
        "  else:\n",
        "    print(f\"{i} - odd\")"
      ],
      "metadata": {
        "colab": {
          "base_uri": "https://localhost:8080/"
        },
        "id": "WDCnPWBfrbqc",
        "outputId": "7aae9b66-0b13-4b9b-a30f-1b4e6f2b2b9c"
      },
      "execution_count": 43,
      "outputs": [
        {
          "output_type": "stream",
          "name": "stdout",
          "text": [
            "1 - odd\n",
            "2 - even\n",
            "3 - odd\n",
            "4 - even\n",
            "5 - odd\n",
            "6 - even\n",
            "7 - odd\n",
            "8 - even\n",
            "9 - odd\n",
            "10 - even\n",
            "11 - odd\n",
            "12 - even\n",
            "13 - odd\n",
            "14 - even\n",
            "15 - odd\n"
          ]
        }
      ]
    },
    {
      "cell_type": "code",
      "source": [
        "'''4. Write a Python function that takes a positive integer and returns the sum of\n",
        "the cube of all the positive integers smaller than the specified number.\n",
        "Sample input: 4 Sample output: 36.'''\n",
        "\n",
        "\n",
        "\n",
        "def sum_of_cubes(n):\n",
        "  sum = 0\n",
        "  for i in range(1, n):\n",
        "    sum += i**3\n",
        "  return sum\n",
        "\n",
        "print(sum_of_cubes(4))"
      ],
      "metadata": {
        "colab": {
          "base_uri": "https://localhost:8080/"
        },
        "id": "Gcy5bFltrsgl",
        "outputId": "dc25ff6f-d273-4a60-ef69-73ce19b5bfdf"
      },
      "execution_count": 44,
      "outputs": [
        {
          "output_type": "stream",
          "name": "stdout",
          "text": [
            "36\n"
          ]
        }
      ]
    },
    {
      "cell_type": "code",
      "source": [],
      "metadata": {
        "id": "kkW6LH0mt-pd"
      },
      "execution_count": null,
      "outputs": []
    }
  ]
}